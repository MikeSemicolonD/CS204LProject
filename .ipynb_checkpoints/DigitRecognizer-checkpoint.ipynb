{
 "cells": [
  {
   "cell_type": "code",
   "execution_count": 1,
   "metadata": {},
   "outputs": [],
   "source": [
    "# Cell for reading in our data/csv's and setting up our matricies (Because it takes too much time+memory)\n",
    "import random\n",
    "import pickle\n",
    "import pandas as pd\n",
    "import numpy as np\n",
    "import seaborn as sb\n",
    "from matplotlib import pyplot as plt\n",
    "from sklearn.tree import DecisionTreeClassifier\n",
    "from sklearn.model_selection import train_test_split\n",
    "from sklearn.metrics import confusion_matrix as confusionMatrix\n",
    "from sklearn.metrics import recall_score as recall\n",
    "from sklearn.metrics import classification_report as classificationReport\n",
    "\n",
    "from IPython.core.interactiveshell import InteractiveShell\n",
    "InteractiveShell.ast_node_interactivity = \"all\"\n",
    "\n",
    "# Added this line so matplot can actually display the images in Jupyter\n",
    "%matplotlib inline  \n",
    "\n",
    "# Path to our csv\n",
    "TRAIN_DIR = \"C:/Users/Mike/Jupyter/CSVs/digit-recog/train.csv\"\n",
    "\n",
    "# Amount of data entries\n",
    "MAX_DATA_LIMIT = 21000\n",
    "\n",
    "# Read in the data set as a matrix\n",
    "trainingDataSet = pd.read_csv(TRAIN_DIR).values;\n",
    "\n",
    "# Create an array holding your training data, excluding index 0 (Your labels)\n",
    "rawTrainingData = trainingDataSet[0:MAX_DATA_LIMIT,1:]\n",
    "\n",
    "# Create an array holding your training labels exclusively\n",
    "rawTrainingLabels = trainingDataSet[0:MAX_DATA_LIMIT,0]\n",
    "\n",
    "# Split our data\n",
    "TrainingData, TestData, TrainingLabels, TestLabels = train_test_split(rawTrainingData,rawTrainingLabels, test_size=0.1, random_state=0)\n",
    "\n"
   ]
  },
  {
   "cell_type": "code",
   "execution_count": 2,
   "metadata": {},
   "outputs": [
    {
     "data": {
      "text/html": [
       "<div>\n",
       "<style scoped>\n",
       "    .dataframe tbody tr th:only-of-type {\n",
       "        vertical-align: middle;\n",
       "    }\n",
       "\n",
       "    .dataframe tbody tr th {\n",
       "        vertical-align: top;\n",
       "    }\n",
       "\n",
       "    .dataframe thead th {\n",
       "        text-align: right;\n",
       "    }\n",
       "</style>\n",
       "<table border=\"1\" class=\"dataframe\">\n",
       "  <thead>\n",
       "    <tr style=\"text-align: right;\">\n",
       "      <th></th>\n",
       "      <th>0</th>\n",
       "      <th>1</th>\n",
       "      <th>2</th>\n",
       "      <th>3</th>\n",
       "      <th>4</th>\n",
       "      <th>5</th>\n",
       "      <th>6</th>\n",
       "      <th>7</th>\n",
       "      <th>8</th>\n",
       "      <th>9</th>\n",
       "      <th>...</th>\n",
       "      <th>775</th>\n",
       "      <th>776</th>\n",
       "      <th>777</th>\n",
       "      <th>778</th>\n",
       "      <th>779</th>\n",
       "      <th>780</th>\n",
       "      <th>781</th>\n",
       "      <th>782</th>\n",
       "      <th>783</th>\n",
       "      <th>784</th>\n",
       "    </tr>\n",
       "  </thead>\n",
       "  <tbody>\n",
       "    <tr>\n",
       "      <th>0</th>\n",
       "      <td>1</td>\n",
       "      <td>0</td>\n",
       "      <td>0</td>\n",
       "      <td>0</td>\n",
       "      <td>0</td>\n",
       "      <td>0</td>\n",
       "      <td>0</td>\n",
       "      <td>0</td>\n",
       "      <td>0</td>\n",
       "      <td>0</td>\n",
       "      <td>...</td>\n",
       "      <td>0</td>\n",
       "      <td>0</td>\n",
       "      <td>0</td>\n",
       "      <td>0</td>\n",
       "      <td>0</td>\n",
       "      <td>0</td>\n",
       "      <td>0</td>\n",
       "      <td>0</td>\n",
       "      <td>0</td>\n",
       "      <td>0</td>\n",
       "    </tr>\n",
       "    <tr>\n",
       "      <th>1</th>\n",
       "      <td>0</td>\n",
       "      <td>0</td>\n",
       "      <td>0</td>\n",
       "      <td>0</td>\n",
       "      <td>0</td>\n",
       "      <td>0</td>\n",
       "      <td>0</td>\n",
       "      <td>0</td>\n",
       "      <td>0</td>\n",
       "      <td>0</td>\n",
       "      <td>...</td>\n",
       "      <td>0</td>\n",
       "      <td>0</td>\n",
       "      <td>0</td>\n",
       "      <td>0</td>\n",
       "      <td>0</td>\n",
       "      <td>0</td>\n",
       "      <td>0</td>\n",
       "      <td>0</td>\n",
       "      <td>0</td>\n",
       "      <td>0</td>\n",
       "    </tr>\n",
       "  </tbody>\n",
       "</table>\n",
       "<p>2 rows × 785 columns</p>\n",
       "</div>"
      ],
      "text/plain": [
       "   0    1    2    3    4    5    6    7    8    9   ...   775  776  777  778  \\\n",
       "0    1    0    0    0    0    0    0    0    0    0 ...     0    0    0    0   \n",
       "1    0    0    0    0    0    0    0    0    0    0 ...     0    0    0    0   \n",
       "\n",
       "   779  780  781  782  783  784  \n",
       "0    0    0    0    0    0    0  \n",
       "1    0    0    0    0    0    0  \n",
       "\n",
       "[2 rows x 785 columns]"
      ]
     },
     "execution_count": 2,
     "metadata": {},
     "output_type": "execute_result"
    }
   ],
   "source": [
    "# We can convert the matrix back into a dataframe\n",
    "pd.DataFrame(trainingDataSet).head(2)"
   ]
  },
  {
   "cell_type": "code",
   "execution_count": 3,
   "metadata": {},
   "outputs": [
    {
     "data": {
      "text/plain": [
       "DecisionTreeClassifier(class_weight=None, criterion='gini', max_depth=None,\n",
       "            max_features=None, max_leaf_nodes=None,\n",
       "            min_impurity_decrease=0.0, min_impurity_split=None,\n",
       "            min_samples_leaf=1, min_samples_split=2,\n",
       "            min_weight_fraction_leaf=0.0, presort=False, random_state=None,\n",
       "            splitter='best')"
      ]
     },
     "execution_count": 3,
     "metadata": {},
     "output_type": "execute_result"
    }
   ],
   "source": [
    "# Cell for training our model\n",
    "\n",
    "# Decision Tree Classifier\n",
    "DTC = DecisionTreeClassifier()\n",
    "\n",
    "# Builds a decision tree classifier using the training data and its labels\n",
    "DTC.fit(TrainingData,TrainingLabels)"
   ]
  },
  {
   "cell_type": "code",
   "execution_count": 4,
   "metadata": {},
   "outputs": [],
   "source": [
    "# Plot Confusion Matrix Function\n",
    "\n",
    "def Plot_Confusion_Matrix(matrix,classes,title,cmap):\n",
    "    \n",
    "    plt.imshow(matrix, interpolation='nearest', cmap=cmap)\n",
    "    \n",
    "    plt.title(title)\n",
    "    plt.colorbar()\n",
    "    \n",
    "    numberOfTickMarks = np.arange(len(classes))\n",
    "    \n",
    "    plt.xticks(numberOfTickMarks,classes,rotation=45)\n",
    "    plt.yticks(numberOfTickMarks,classes)\n",
    "    \n",
    "    plt.ylabel('True Labels')\n",
    "    plt.xlabel('Predicted Labels')\n",
    "    \n",
    "    plt.tight_layout()\n"
   ]
  },
  {
   "cell_type": "code",
   "execution_count": 5,
   "metadata": {},
   "outputs": [
    {
     "name": "stdout",
     "output_type": "stream",
     "text": [
      "Recall Score / Model Accuracy : 0.8423809523809523\n",
      "\n",
      "Classification Report :\n",
      "\n",
      "              precision    recall  f1-score   support\n",
      "\n",
      "           0       0.92      0.92      0.92       201\n",
      "           1       0.96      0.96      0.96       246\n",
      "           2       0.81      0.79      0.80       199\n",
      "           3       0.78      0.76      0.77       212\n",
      "           4       0.77      0.85      0.81       194\n",
      "           5       0.77      0.80      0.79       181\n",
      "           6       0.91      0.88      0.89       219\n",
      "           7       0.85      0.92      0.88       238\n",
      "           8       0.83      0.73      0.77       214\n",
      "           9       0.80      0.78      0.79       196\n",
      "\n",
      "   micro avg       0.84      0.84      0.84      2100\n",
      "   macro avg       0.84      0.84      0.84      2100\n",
      "weighted avg       0.84      0.84      0.84      2100\n",
      "\n"
     ]
    },
    {
     "data": {
      "image/png": "[encoded data removed]",
      "text/plain": [
       "<Figure size 432x288 with 2 Axes>"
      ]
     },
     "metadata": {
      "needs_background": "light"
     },
     "output_type": "display_data"
    }
   ],
   "source": [
    "# Cell for testing our model\n",
    "\n",
    "# Create an object that'll run the model with a given index and return the label it predicted\n",
    "prediction = DTC.predict(TestData)\n",
    "\n",
    "# Create Confusion Matrix\n",
    "# Passing in our true labels and what our model predicted\n",
    "cm = confusionMatrix(TestLabels,prediction)\n",
    "\n",
    "# Create an array representing each class\n",
    "classNames = ['0','1','2','3','4','5','6','7','8','9']\n",
    "\n",
    "# Compute the recall ratio ( truePos/(truePos+falseNeg) )\n",
    "print('Recall Score / Model Accuracy :',recall(TestLabels,prediction,average='micro'))\n",
    "\n",
    "print('\\nClassification Report :\\n')\n",
    "\n",
    "# Output a classification report\n",
    "print(classificationReport(TestLabels,prediction,target_names=classNames))\n",
    "\n",
    "# Plot+Display Confusion Matrix\n",
    "Plot_Confusion_Matrix(cm,classNames,'Confusion Matrix w/out Normalization',plt.cm.Blues)\n",
    "\n"
   ]
  },
  {
   "cell_type": "code",
   "execution_count": 6,
   "metadata": {},
   "outputs": [
    {
     "data": {
      "text/plain": [
       "<matplotlib.axes._subplots.AxesSubplot at 0x1be982d0>"
      ]
     },
     "execution_count": 6,
     "metadata": {},
     "output_type": "execute_result"
    },
    {
     "data": {
      "image/png": "[encoded data removed]",
      "text/plain": [
       "<Figure size 432x288 with 2 Axes>"
      ]
     },
     "metadata": {
      "needs_background": "light"
     },
     "output_type": "display_data"
    }
   ],
   "source": [
    "#Confusion matrix heat map using Seaborn\n",
    "sb.heatmap(cm, annot = True, annot_kws={\"size\": 15})"
   ]
  },
  {
   "cell_type": "code",
   "execution_count": 7,
   "metadata": {},
   "outputs": [
    {
     "name": "stdout",
     "output_type": "stream",
     "text": [
      "Predicted Label : 5\n",
      "Actual Label : 5\n",
      "Index : 1202\n"
     ]
    },
    {
     "data": {
      "text/plain": [
       "<matplotlib.image.AxesImage at 0x10d8dd0>"
      ]
     },
     "execution_count": 7,
     "metadata": {},
     "output_type": "execute_result"
    },
    {
     "data": {
      "image/png": "[encoded data removed]",
      "text/plain": [
       "<Figure size 432x288 with 1 Axes>"
      ]
     },
     "metadata": {
      "needs_background": "light"
     },
     "output_type": "display_data"
    },
    {
     "name": "stdout",
     "output_type": "stream",
     "text": [
      "[[  0   0   0   0   0   0   0   0   0   0   0   0   0   0   0   0   0   0\n",
      "    0   0   0   0   0   0   0   0   0   0]\n",
      " [  0   0   0   0   0   0   0   0   0   0   0   0   0   0   0   0   0   0\n",
      "    0   0   0   0   0   0   0   0   0   0]\n",
      " [  0   0   0   0   0   0   0   0   0   0   0   0   0   0   0   0   0   0\n",
      "    0   0   0   0   0   0   0   0   0   0]\n",
      " [  0   0   0   0   0   0   0   0   0   0   0   0   0   0   0   0   0   0\n",
      "    0   0   0   0   0   0   0   0   0   0]\n",
      " [  0   0   0   0   0   0   0   0   0   0   0   0   0   0   0   0   0   0\n",
      "    0   0   0   0   0   0   0   0   0   0]\n",
      " [  0   0   0   0   0   0   0   0   0   0   0   0   0   0   0   0   0   0\n",
      "    0  27 189  50   0   0   0   0   0   0]\n",
      " [  0   0   0   0   0   0   0   0   0   0   0   0   0   0   0   0   0   0\n",
      "   82 216 192   8   0   0   0   0   0   0]\n",
      " [  0   0   0   0   0   0   0   0   0   0   0   0   0   0  14  37  56 205\n",
      "  245 207  13   0   0   0   0   0   0   0]\n",
      " [  0   0   0   0   0   0   0   0   0   0   0   0   0  54 193 254 253 244\n",
      "  196  61   0   0   0   0   0   0   0   0]\n",
      " [  0   0   0   0   0   0   0   0   0   0   0   0  14 218 253 195 111  36\n",
      "    0   0   0   0   0   0   0   0   0   0]\n",
      " [  0   0   0   0   0   0   0   0   0   0   0   0  95 248  52   0   0   0\n",
      "    0   0   0   0   0   0   0   0   0   0]\n",
      " [  0   0   0   0   0   0   0   0   0   0   0  51 231 141  55 145 126  28\n",
      "    0   0   0   0   0   0   0   0   0   0]\n",
      " [  0   0   0   0   0   0   0   0   0   0  11 225 253 253 253 254 253 222\n",
      "   40   0   0   0   0   0   0   0   0   0]\n",
      " [  0   0   0   0   0   0   0   0   0  46 215 253 192 144 144 144 239 253\n",
      "  150   0   0   0   0   0   0   0   0   0]\n",
      " [  0   0   0   0   0   0   0   0  14 232 254  85  11   0   0   0 113 253\n",
      "  235   0   0   0   0   0   0   0   0   0]\n",
      " [  0   0   0   0   0   0   0   0  14 181  33   0   0   0   0   0   0 218\n",
      "  235   0   0   0   0   0   0   0   0   0]\n",
      " [  0   0   0   0   0   0   0   0   0   0   0   0   0   0   0   0   0 217\n",
      "  182   0   0   0   0   0   0   0   0   0]\n",
      " [  0   0   0   0   0   0   0   0   0   0   0   0   0   0   0   0  41 235\n",
      "  131   0   0   0   0   0   0   0   0   0]\n",
      " [  0   0   0   0   0   0   0   0   0   0   0   0   0   0   0  38 224 185\n",
      "   12   0   0   0   0   0   0   0   0   0]\n",
      " [  0   0   0   0   0   0   0   0   0   0   0   0   0   0   0 195 233  49\n",
      "    0   0   0   0   0   0   0   0   0   0]\n",
      " [  0   0   0   0   0   0   0   0   0   0   0   0   0   6 170 255  83   0\n",
      "    0   0   0   0   0   0   0   0   0   0]\n",
      " [  0   0   0   0   0   0   0   0   0   0   0   0   8 166 233  50   2   0\n",
      "    0   0   0   0   0   0   0   0   0   0]\n",
      " [  0   0   0   0   0   0   0   0 165  49   0   8 164 250  75   0   0   0\n",
      "    0   0   0   0   0   0   0   0   0   0]\n",
      " [  0   0   0   0   0   0   0   0 122 233 141 204 237  89   0   0   0   0\n",
      "    0   0   0   0   0   0   0   0   0   0]\n",
      " [  0   0   0   0   0   0   0   0  12 194 254 149  11   0   0   0   0   0\n",
      "    0   0   0   0   0   0   0   0   0   0]\n",
      " [  0   0   0   0   0   0   0   0   0   0   0   0   0   0   0   0   0   0\n",
      "    0   0   0   0   0   0   0   0   0   0]\n",
      " [  0   0   0   0   0   0   0   0   0   0   0   0   0   0   0   0   0   0\n",
      "    0   0   0   0   0   0   0   0   0   0]\n",
      " [  0   0   0   0   0   0   0   0   0   0   0   0   0   0   0   0   0   0\n",
      "    0   0   0   0   0   0   0   0   0   0]]\n"
     ]
    }
   ],
   "source": [
    "# Cell for displaying an image in our data set and predicting what the image is\n",
    "\n",
    "# Select a random image from our test data set\n",
    "SELECTED_IMAGE = random.randrange(0,prediction.size)\n",
    "\n",
    "# Select the image we want to show\n",
    "image = TestData[SELECTED_IMAGE]\n",
    "\n",
    "# Use reshape(1,-1) to pass in a single element at the correct size\n",
    "imageModelInput = image.reshape(1,-1)\n",
    "\n",
    "# NOTE: Need to pass in a 2D array for it to work. A single element from a 2D array won't work. (It'll pass in a 1D array)\n",
    "predict = DTC.predict(imageModelInput)\n",
    "\n",
    "# Output what the model things the image is.\n",
    "print(\"Predicted Label :\",predict[0])\n",
    "\n",
    "# Convert's the array element into a 28x28 image\n",
    "image.shape=(28,28)\n",
    "\n",
    "print('Actual Label :',TestLabels[SELECTED_IMAGE])\n",
    "print('Index :',SELECTED_IMAGE)\n",
    "\n",
    "# Show the image in gray scale using pyplot\n",
    "# NOTE: 'binary' is like 'gray' cmap but in reverse\n",
    "plt.imshow(image,cmap='binary')\n",
    "plt.show()\n",
    "\n",
    "print(image)\n"
   ]
  },
  {
   "cell_type": "code",
   "execution_count": null,
   "metadata": {},
   "outputs": [],
   "source": [
    "# Other stuff\n",
    "\n",
    "print(\"\\nTree params = \\n\",DTC.get_params())\n",
    "print(\"\\nScore = \",DTC.score(TestData,TestLabels))"
   ]
  },
  {
   "cell_type": "code",
   "execution_count": null,
   "metadata": {},
   "outputs": [],
   "source": [
    "# Allows us to serialize+save our model\n",
    "\n",
    "import pickle\n",
    "\n",
    "saveFileDir = \"C:/Users/Mike/PickleObjects/\"\n",
    "\n",
    "filename = 'DigitRecogModel'\n",
    "\n",
    "pickle.dump(DTC,open(saveFileDir+filename,'wb'))"
   ]
  },
  {
   "cell_type": "code",
   "execution_count": null,
   "metadata": {},
   "outputs": [],
   "source": [
    "# Load the model and score it to make sure it works\n",
    "\n",
    "loadedDigitRecogModel = pickle.load(open(saveFileDir+filename,'rb'))\n",
    "loadedDigitRecogModel.score(rawTrainingData,rawTrainingLabels)"
   ]
  },
  {
   "cell_type": "code",
   "execution_count": null,
   "metadata": {},
   "outputs": [],
   "source": [
    "# Save training data and labels\n",
    "# Don't need to do this unless you want to move your data out for testing purposes\n",
    "\n",
    "RTDName = 'TrainingData'\n",
    "RTLName = 'TrainingLabels'\n",
    "\n",
    "pickle.dump(rawTrainingData,open(saveFileDir+RTDName,'wb'))\n",
    "pickle.dump(rawTrainingLabels,open(saveFileDir+RTLName,'wb'))"
   ]
  }
 ],
 "metadata": {
  "kernelspec": {
   "display_name": "Python 3",
   "language": "python",
   "name": "python3"
  },
  "language_info": {
   "codemirror_mode": {
    "name": "ipython",
    "version": 3
   },
   "file_extension": ".py",
   "mimetype": "text/x-python",
   "name": "python",
   "nbconvert_exporter": "python",
   "pygments_lexer": "ipython3",
   "version": "3.7.0"
  }
 },
 "nbformat": 4,
 "nbformat_minor": 2
}
