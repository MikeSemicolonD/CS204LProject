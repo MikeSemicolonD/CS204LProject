{
 "cells": [
  {
   "cell_type": "code",
   "execution_count": 1,
   "metadata": {},
   "outputs": [],
   "source": [
    "# Cell for reading in our data/csv's and setting up our matricies (Because it takes too much time+memory)\n",
    "import random\n",
    "import pickle\n",
    "import pandas as pd\n",
    "import numpy as np\n",
    "import seaborn as sb\n",
    "from matplotlib import pyplot as plt\n",
    "from sklearn.tree import DecisionTreeClassifier\n",
    "from sklearn.model_selection import train_test_split\n",
    "from sklearn.metrics import confusion_matrix as confusionMatrix\n",
    "from sklearn.metrics import recall_score as recall\n",
    "from sklearn.metrics import classification_report as classificationReport\n",
    "\n",
    "from IPython.core.interactiveshell import InteractiveShell\n",
    "InteractiveShell.ast_node_interactivity = \"all\"\n",
    "\n",
    "# Added this line so matplot can actually display the images in Jupyter\n",
    "%matplotlib inline  \n",
    "\n",
    "# Path to our csv\n",
    "TRAIN_DIR = \"C:/Users/Mike/Jupyter/CSVs/digit-recog/train.csv\"\n",
    "\n",
    "# Amount of data entries\n",
    "MAX_DATA_LIMIT = 21000\n",
    "\n",
    "# Read in the data set as a matrix\n",
    "trainingDataSet = pd.read_csv(TRAIN_DIR).values;\n",
    "\n",
    "# Create an array holding your training data, excluding index 0 (Your labels)\n",
    "rawTrainingData = trainingDataSet[0:MAX_DATA_LIMIT,1:]\n",
    "\n",
    "# Create an array holding your training labels exclusively\n",
    "rawTrainingLabels = trainingDataSet[0:MAX_DATA_LIMIT,0]\n",
    "\n",
    "# Split our data\n",
    "TrainingData, TestData, TrainingLabels, TestLabels = train_test_split(rawTrainingData,rawTrainingLabels, test_size=0.1, random_state=0)\n",
    "\n"
   ]
  },
  {
   "cell_type": "code",
   "execution_count": null,
   "metadata": {
    "scrolled": true
   },
   "outputs": [],
   "source": [
    "# We can convert the matrix back into a dataframe\n",
    "pd.DataFrame(trainingDataSet).head(2)"
   ]
  },
  {
   "cell_type": "code",
   "execution_count": 2,
   "metadata": {},
   "outputs": [
    {
     "data": {
      "text/plain": [
       "DecisionTreeClassifier(class_weight=None, criterion='gini', max_depth=None,\n",
       "            max_features=None, max_leaf_nodes=None,\n",
       "            min_impurity_decrease=0.0, min_impurity_split=None,\n",
       "            min_samples_leaf=1, min_samples_split=2,\n",
       "            min_weight_fraction_leaf=0.0, presort=False, random_state=None,\n",
       "            splitter='best')"
      ]
     },
     "execution_count": 2,
     "metadata": {},
     "output_type": "execute_result"
    }
   ],
   "source": [
    "# Cell for training our model\n",
    "\n",
    "# Decision Tree Classifier\n",
    "DTC = DecisionTreeClassifier()\n",
    "\n",
    "# Builds a decision tree classifier using the training data and its labels\n",
    "DTC.fit(TrainingData,TrainingLabels)"
   ]
  },
  {
   "cell_type": "code",
   "execution_count": 3,
   "metadata": {},
   "outputs": [],
   "source": [
    "# Plot Confusion Matrix Function\n",
    "\n",
    "def Plot_Confusion_Matrix(matrix,classes,title,cmap):\n",
    "    \n",
    "    plt.imshow(matrix, interpolation='nearest', cmap=cmap)\n",
    "    \n",
    "    plt.title(title)\n",
    "    plt.colorbar()\n",
    "    \n",
    "    numberOfTickMarks = np.arange(len(classes))\n",
    "    \n",
    "    plt.xticks(numberOfTickMarks,classes,rotation=45)\n",
    "    plt.yticks(numberOfTickMarks,classes)\n",
    "    \n",
    "    plt.ylabel('True Labels')\n",
    "    plt.xlabel('Predicted Labels')\n",
    "    \n",
    "    plt.tight_layout()\n"
   ]
  },
  {
   "cell_type": "code",
   "execution_count": 4,
   "metadata": {},
   "outputs": [
    {
     "name": "stdout",
     "output_type": "stream",
     "text": [
      "Recall Score / Model Accuracy : 0.840952380952381\n",
      "\n",
      "Classification Report :\n",
      "\n",
      "              precision    recall  f1-score   support\n",
      "\n",
      "           0       0.92      0.91      0.91       201\n",
      "           1       0.91      0.95      0.93       246\n",
      "           2       0.82      0.80      0.81       199\n",
      "           3       0.75      0.75      0.75       212\n",
      "           4       0.79      0.82      0.81       194\n",
      "           5       0.80      0.79      0.79       181\n",
      "           6       0.90      0.89      0.90       219\n",
      "           7       0.87      0.93      0.90       238\n",
      "           8       0.81      0.73      0.77       214\n",
      "           9       0.80      0.80      0.80       196\n",
      "\n",
      "   micro avg       0.84      0.84      0.84      2100\n",
      "   macro avg       0.84      0.84      0.84      2100\n",
      "weighted avg       0.84      0.84      0.84      2100\n",
      "\n"
     ]
    },
    {
     "data": {
      "image/png": "[encoded data removed]",
      "text/plain": [
       "<Figure size 432x288 with 2 Axes>"
      ]
     },
     "metadata": {
      "needs_background": "light"
     },
     "output_type": "display_data"
    }
   ],
   "source": [
    "# Cell for testing our model\n",
    "\n",
    "# Create an object that'll run the model with a given index and return the label it predicted\n",
    "prediction = DTC.predict(TestData)\n",
    "\n",
    "# Create Confusion Matrix\n",
    "# Passing in our true labels and what our model predicted\n",
    "cm = confusionMatrix(TestLabels,prediction)\n",
    "\n",
    "# Create an array representing each class\n",
    "classNames = ['0','1','2','3','4','5','6','7','8','9']\n",
    "\n",
    "# Compute the recall ratio ( truePos/(truePos+falseNeg) )\n",
    "print('Recall Score / Model Accuracy :',recall(TestLabels,prediction,average='micro'))\n",
    "\n",
    "print('\\nClassification Report :\\n')\n",
    "\n",
    "# Output a classification report\n",
    "print(classificationReport(TestLabels,prediction,target_names=classNames))\n",
    "\n",
    "# Plot+Display Confusion Matrix\n",
    "Plot_Confusion_Matrix(cm,classNames,'Confusion Matrix w/out Normalization',plt.cm.Blues)\n",
    "\n"
   ]
  },
  {
   "cell_type": "code",
   "execution_count": 5,
   "metadata": {},
   "outputs": [
    {
     "data": {
      "text/plain": [
       "<matplotlib.axes._subplots.AxesSubplot at 0x1b5bdc50>"
      ]
     },
     "execution_count": 5,
     "metadata": {},
     "output_type": "execute_result"
    },
    {
     "data": {
      "image/png": "[encoded data removed]",
      "text/plain": [
       "<Figure size 432x288 with 2 Axes>"
      ]
     },
     "metadata": {
      "needs_background": "light"
     },
     "output_type": "display_data"
    }
   ],
   "source": [
    "#Confusion matrix heat map using Seaborn\n",
    "sb.heatmap(cm, annot = True, annot_kws={\"size\": 15})"
   ]
  },
  {
   "cell_type": "code",
   "execution_count": 6,
   "metadata": {},
   "outputs": [
    {
     "name": "stdout",
     "output_type": "stream",
     "text": [
      "Predicted Label : 6\n",
      "Actual Label : 6\n",
      "Index : 714\n"
     ]
    },
    {
     "data": {
      "text/plain": [
       "<matplotlib.image.AxesImage at 0x1d752bd0>"
      ]
     },
     "execution_count": 6,
     "metadata": {},
     "output_type": "execute_result"
    },
    {
     "data": {
      "image/png": "[encoded data removed]",
      "text/plain": [
       "<Figure size 432x288 with 1 Axes>"
      ]
     },
     "metadata": {
      "needs_background": "light"
     },
     "output_type": "display_data"
    },
    {
     "name": "stdout",
     "output_type": "stream",
     "text": [
      "[[  0   0   0   0   0   0   0   0   0   0   0   0   0   0   0   0   0   0\n",
      "    0   0   0   0   0   0   0   0   0   0]\n",
      " [  0   0   0   0   0   0   0   0   0   0   0   0   0   0   0   0   0   0\n",
      "    0   0   0   0   0   0   0   0   0   0]\n",
      " [  0   0   0   0   0   0   0   0   0   0   0   0   0   0   0   0   0   0\n",
      "    0   0   0   0   0   0   0   0   0   0]\n",
      " [  0   0   0   0   0   0   0   0   0   0   0   0   0   0   0   0   0 113\n",
      "  193 234  51   0   0   0   0   0   0   0]\n",
      " [  0   0   0   0   0   0   0   0   0   0   0   0   0   0   0  21 183 253\n",
      "  212 213 232   0   0   0   0   0   0   0]\n",
      " [  0   0   0   0   0   0   0   0   0   0   0   0   0   0   0 132 253 183\n",
      "   20   0  82   0   0   0   0   0   0   0]\n",
      " [  0   0   0   0   0   0   0   0   0   0   0   0   0   0  82 253 212   0\n",
      "    0   0   0   0   0   0   0   0   0   0]\n",
      " [  0   0   0   0   0   0   0   0   0   0   0   0   0  51 233 203  20   0\n",
      "    0   0   0   0   0   0   0   0   0   0]\n",
      " [  0   0   0   0   0   0   0   0   0   0   0   0  41 233 212  20   0   0\n",
      "    0   0   0   0   0   0   0   0   0   0]\n",
      " [  0   0   0   0   0   0   0   0   0   0   0  11 213 244  81   0   0   0\n",
      "    0   0   0   0   0   0   0   0   0   0]\n",
      " [  0   0   0   0   0   0   0   0   0   0   0 173 252 122   0   0   0   0\n",
      "    0   0   0   0   0   0   0   0   0   0]\n",
      " [  0   0   0   0   0   0   0   0   0   0  21 254 192   0   0   0   0   0\n",
      "    0   0   0   0   0   0   0   0   0   0]\n",
      " [  0   0   0   0   0   0   0   0   0   0 183 253  70   0   0   0   0   0\n",
      "    0   0   0   0   0   0   0   0   0   0]\n",
      " [  0   0   0   0   0   0   0   0   0  31 233 244  40   0   0   0   0   0\n",
      "    0   0   0   0   0   0   0   0   0   0]\n",
      " [  0   0   0   0   0   0   0   0   0  51 252 162   0   0   0   0   0   0\n",
      "    0   0   0   0   0   0   0   0   0   0]\n",
      " [  0   0   0   0   0   0   0   0   0 152 253  82   0   0   0   0   0   0\n",
      "    0   0   0   0   0   0   0   0   0   0]\n",
      " [  0   0   0   0   0   0   0   0   0 233 252   0   0   0   0   0   0   0\n",
      "    0   0   0   0   0   0   0   0   0   0]\n",
      " [  0   0   0   0   0   0   0   0   0 193 253   0   0   0   0   0   0   0\n",
      "    0   0   0   0   0   0   0   0   0   0]\n",
      " [  0   0   0   0   0   0   0   0   0 112 252  82   0   0   0   0   0   0\n",
      "    0   0   0   0   0   0   0   0   0   0]\n",
      " [  0   0   0   0   0   0   0   0   0  41 243 255 253 193 112  41   0   0\n",
      "    0   0   0   0   0   0   0   0   0   0]\n",
      " [  0   0   0   0   0   0   0   0   0   0  81 253 252 253 252 243 203 203\n",
      "  122   0   0   0   0   0   0   0   0   0]\n",
      " [  0   0   0   0   0   0   0   0   0   0   0  62 203 255 253 255 253 255\n",
      "  253 163   0   0   0   0   0   0   0   0]\n",
      " [  0   0   0   0   0   0   0   0   0   0   0   0  20  50 131 151 151 151\n",
      "  151 162   0   0   0   0   0   0   0   0]\n",
      " [  0   0   0   0   0   0   0   0   0   0   0   0   0   0   0   0   0   0\n",
      "    0   0   0   0   0   0   0   0   0   0]\n",
      " [  0   0   0   0   0   0   0   0   0   0   0   0   0   0   0   0   0   0\n",
      "    0   0   0   0   0   0   0   0   0   0]\n",
      " [  0   0   0   0   0   0   0   0   0   0   0   0   0   0   0   0   0   0\n",
      "    0   0   0   0   0   0   0   0   0   0]\n",
      " [  0   0   0   0   0   0   0   0   0   0   0   0   0   0   0   0   0   0\n",
      "    0   0   0   0   0   0   0   0   0   0]\n",
      " [  0   0   0   0   0   0   0   0   0   0   0   0   0   0   0   0   0   0\n",
      "    0   0   0   0   0   0   0   0   0   0]]\n"
     ]
    }
   ],
   "source": [
    "# Cell for displaying an image in our data set and predicting what the image is\n",
    "\n",
    "# Select a random image from our test data set\n",
    "SELECTED_IMAGE = random.randrange(0,prediction.size)\n",
    "\n",
    "# Select the image we want to show\n",
    "image = TestData[SELECTED_IMAGE]\n",
    "\n",
    "# Use reshape(1,-1) to pass in a single element at the correct size\n",
    "imageModelInput = image.reshape(1,-1)\n",
    "\n",
    "# NOTE: Need to pass in a 2D array for it to work. A single element from a 2D array won't work. (It'll pass in a 1D array)\n",
    "predict = DTC.predict(imageModelInput)\n",
    "\n",
    "# Output what the model things the image is.\n",
    "print(\"Predicted Label :\",predict[0])\n",
    "\n",
    "# Convert's the array element into a 28x28 image\n",
    "image.shape=(28,28)\n",
    "\n",
    "print('Actual Label :',TestLabels[SELECTED_IMAGE])\n",
    "print('Index :',SELECTED_IMAGE)\n",
    "\n",
    "# Show the image in gray scale using pyplot\n",
    "# NOTE: 'binary' is like 'gray' cmap but in reverse\n",
    "plt.imshow(image,cmap='binary')\n",
    "plt.show()\n",
    "\n",
    "print(image)\n"
   ]
  },
  {
   "cell_type": "code",
   "execution_count": 9,
   "metadata": {},
   "outputs": [
    {
     "name": "stdout",
     "output_type": "stream",
     "text": [
      "\n",
      "Tree params = \n",
      " {'class_weight': None, 'criterion': 'gini', 'max_depth': None, 'max_features': None, 'max_leaf_nodes': None, 'min_impurity_decrease': 0.0, 'min_impurity_split': None, 'min_samples_leaf': 1, 'min_samples_split': 2, 'min_weight_fraction_leaf': 0.0, 'presort': False, 'random_state': None, 'splitter': 'best'}\n",
      "\n",
      "Score =  0.840952380952381\n"
     ]
    }
   ],
   "source": [
    "# Other stuff\n",
    "\n",
    "print(\"\\nTree params = \\n\",DTC.get_params())\n",
    "print(\"\\nScore = \",DTC.score(TestData,TestLabels))"
   ]
  },
  {
   "cell_type": "code",
   "execution_count": 8,
   "metadata": {},
   "outputs": [],
   "source": [
    "# Allows us to serialize+save our model\n",
    "\n",
    "import pickle\n",
    "\n",
    "saveFileDir = \"C:/Users/Mike/Jupyter/PickleObjects/\"\n",
    "\n",
    "filename = 'DigitRecogModel'\n",
    "\n",
    "pickle.dump(DTC,open(saveFileDir+filename,'wb'))"
   ]
  },
  {
   "cell_type": "code",
   "execution_count": null,
   "metadata": {},
   "outputs": [],
   "source": [
    "# Load the model and score it to make sure it works\n",
    "\n",
    "loadedDigitRecogModel = pickle.load(open(saveFileDir+filename,'rb'))\n",
    "loadedDigitRecogModel.score(rawTrainingData,rawTrainingLabels)"
   ]
  },
  {
   "cell_type": "code",
   "execution_count": null,
   "metadata": {},
   "outputs": [],
   "source": [
    "# Save training data and labels\n",
    "# Don't need to do this unless you want to move your data out for testing purposes\n",
    "\n",
    "RTDName = 'TrainingData'\n",
    "RTLName = 'TrainingLabels'\n",
    "\n",
    "pickle.dump(rawTrainingData,open(saveFileDir+RTDName,'wb'))\n",
    "pickle.dump(rawTrainingLabels,open(saveFileDir+RTLName,'wb'))"
   ]
  },
  {
   "cell_type": "code",
   "execution_count": 11,
   "metadata": {},
   "outputs": [
    {
     "name": "stdout",
     "output_type": "stream",
     "text": [
      "0.9840952380952381\n"
     ]
    }
   ],
   "source": [
    "\n",
    "loaded_model = pickle.load(open(\"C:/Users/Mike/Jupyter/PickleObjects/DigitRecogModel\", 'rb'))\n",
    "result = loaded_model.score(rawTrainingData, rawTrainingLabels)\n",
    "print(result)"
   ]
  }
 ],
 "metadata": {
  "kernelspec": {
   "display_name": "Python 3",
   "language": "python",
   "name": "python3"
  },
  "language_info": {
   "codemirror_mode": {
    "name": "ipython",
    "version": 3
   },
   "file_extension": ".py",
   "mimetype": "text/x-python",
   "name": "python",
   "nbconvert_exporter": "python",
   "pygments_lexer": "ipython3",
   "version": "3.7.0"
  }
 },
 "nbformat": 4,
 "nbformat_minor": 2
}
