{
 "cells": [
  {
   "cell_type": "code",
   "execution_count": 1,
   "metadata": {},
   "outputs": [],
   "source": [
    "# Cell for reading in our data/csv's and setting up our matricies (Because it takes too much time+memory)\n",
    "import random\n",
    "import pickle\n",
    "import pandas as pd\n",
    "import numpy as np\n",
    "import seaborn as sb\n",
    "from matplotlib import pyplot as plt\n",
    "from sklearn.tree import DecisionTreeClassifier\n",
    "from sklearn.model_selection import train_test_split\n",
    "from sklearn.metrics import confusion_matrix as confusionMatrix\n",
    "from sklearn.metrics import recall_score as recall\n",
    "from sklearn.metrics import classification_report as classificationReport\n",
    "\n",
    "from IPython.core.interactiveshell import InteractiveShell\n",
    "InteractiveShell.ast_node_interactivity = \"all\"\n",
    "\n",
    "# Added this line so matplot can actually display the images in Jupyter\n",
    "%matplotlib inline  \n",
    "\n",
    "# Path to our csv\n",
    "TRAIN_DIR = \"C:/Users/Mike/Jupyter/CSVs/digit-recog/train.csv\"\n",
    "\n",
    "# Amount of data entries\n",
    "MAX_DATA_LIMIT = 21000\n",
    "\n",
    "# Read in the data set as a matrix\n",
    "trainingDataSet = pd.read_csv(TRAIN_DIR).values;\n",
    "\n",
    "# Create an array holding your training data, excluding index 0 (Your labels)\n",
    "rawTrainingData = trainingDataSet[0:MAX_DATA_LIMIT,1:]\n",
    "\n",
    "# Create an array holding your training labels exclusively\n",
    "rawTrainingLabels = trainingDataSet[0:MAX_DATA_LIMIT,0]\n",
    "\n",
    "# Split our data\n",
    "TrainingData, TestData, TrainingLabels, TestLabels = train_test_split(rawTrainingData,rawTrainingLabels, test_size=0.2, random_state=0)\n",
    "\n"
   ]
  },
  {
   "cell_type": "code",
   "execution_count": 2,
   "metadata": {},
   "outputs": [
    {
     "data": {
      "text/html": [
       "<div>\n",
       "<style scoped>\n",
       "    .dataframe tbody tr th:only-of-type {\n",
       "        vertical-align: middle;\n",
       "    }\n",
       "\n",
       "    .dataframe tbody tr th {\n",
       "        vertical-align: top;\n",
       "    }\n",
       "\n",
       "    .dataframe thead th {\n",
       "        text-align: right;\n",
       "    }\n",
       "</style>\n",
       "<table border=\"1\" class=\"dataframe\">\n",
       "  <thead>\n",
       "    <tr style=\"text-align: right;\">\n",
       "      <th></th>\n",
       "      <th>0</th>\n",
       "      <th>1</th>\n",
       "      <th>2</th>\n",
       "      <th>3</th>\n",
       "      <th>4</th>\n",
       "      <th>5</th>\n",
       "      <th>6</th>\n",
       "      <th>7</th>\n",
       "      <th>8</th>\n",
       "      <th>9</th>\n",
       "      <th>...</th>\n",
       "      <th>775</th>\n",
       "      <th>776</th>\n",
       "      <th>777</th>\n",
       "      <th>778</th>\n",
       "      <th>779</th>\n",
       "      <th>780</th>\n",
       "      <th>781</th>\n",
       "      <th>782</th>\n",
       "      <th>783</th>\n",
       "      <th>784</th>\n",
       "    </tr>\n",
       "  </thead>\n",
       "  <tbody>\n",
       "    <tr>\n",
       "      <th>0</th>\n",
       "      <td>1</td>\n",
       "      <td>0</td>\n",
       "      <td>0</td>\n",
       "      <td>0</td>\n",
       "      <td>0</td>\n",
       "      <td>0</td>\n",
       "      <td>0</td>\n",
       "      <td>0</td>\n",
       "      <td>0</td>\n",
       "      <td>0</td>\n",
       "      <td>...</td>\n",
       "      <td>0</td>\n",
       "      <td>0</td>\n",
       "      <td>0</td>\n",
       "      <td>0</td>\n",
       "      <td>0</td>\n",
       "      <td>0</td>\n",
       "      <td>0</td>\n",
       "      <td>0</td>\n",
       "      <td>0</td>\n",
       "      <td>0</td>\n",
       "    </tr>\n",
       "    <tr>\n",
       "      <th>1</th>\n",
       "      <td>0</td>\n",
       "      <td>0</td>\n",
       "      <td>0</td>\n",
       "      <td>0</td>\n",
       "      <td>0</td>\n",
       "      <td>0</td>\n",
       "      <td>0</td>\n",
       "      <td>0</td>\n",
       "      <td>0</td>\n",
       "      <td>0</td>\n",
       "      <td>...</td>\n",
       "      <td>0</td>\n",
       "      <td>0</td>\n",
       "      <td>0</td>\n",
       "      <td>0</td>\n",
       "      <td>0</td>\n",
       "      <td>0</td>\n",
       "      <td>0</td>\n",
       "      <td>0</td>\n",
       "      <td>0</td>\n",
       "      <td>0</td>\n",
       "    </tr>\n",
       "  </tbody>\n",
       "</table>\n",
       "<p>2 rows × 785 columns</p>\n",
       "</div>"
      ],
      "text/plain": [
       "   0    1    2    3    4    5    6    7    8    9   ...   775  776  777  778  \\\n",
       "0    1    0    0    0    0    0    0    0    0    0 ...     0    0    0    0   \n",
       "1    0    0    0    0    0    0    0    0    0    0 ...     0    0    0    0   \n",
       "\n",
       "   779  780  781  782  783  784  \n",
       "0    0    0    0    0    0    0  \n",
       "1    0    0    0    0    0    0  \n",
       "\n",
       "[2 rows x 785 columns]"
      ]
     },
     "execution_count": 2,
     "metadata": {},
     "output_type": "execute_result"
    }
   ],
   "source": [
    "# We can convert the matrix back into a dataframe\n",
    "pd.DataFrame(trainingDataSet).head(2)"
   ]
  },
  {
   "cell_type": "code",
   "execution_count": 3,
   "metadata": {},
   "outputs": [
    {
     "data": {
      "text/plain": [
       "DecisionTreeClassifier(class_weight=None, criterion='gini', max_depth=None,\n",
       "            max_features=None, max_leaf_nodes=None,\n",
       "            min_impurity_decrease=0.0, min_impurity_split=None,\n",
       "            min_samples_leaf=1, min_samples_split=2,\n",
       "            min_weight_fraction_leaf=0.0, presort=False, random_state=None,\n",
       "            splitter='best')"
      ]
     },
     "execution_count": 3,
     "metadata": {},
     "output_type": "execute_result"
    }
   ],
   "source": [
    "# Cell for training our model\n",
    "\n",
    "# Decision Tree Classifier\n",
    "DTC = DecisionTreeClassifier()\n",
    "\n",
    "# Builds a decision tree classifier using the training data and its labels\n",
    "DTC.fit(TrainingData,TrainingLabels)"
   ]
  },
  {
   "cell_type": "code",
   "execution_count": 4,
   "metadata": {},
   "outputs": [],
   "source": [
    "# Plot Confusion Matrix Function\n",
    "\n",
    "def Plot_Confusion_Matrix(matrix,classes,title,cmap):\n",
    "    \n",
    "    plt.imshow(matrix, interpolation='nearest', cmap=cmap)\n",
    "    \n",
    "    plt.title(title)\n",
    "    plt.colorbar()\n",
    "    \n",
    "    numberOfTickMarks = np.arange(len(classes))\n",
    "    \n",
    "    plt.xticks(numberOfTickMarks,classes,rotation=45)\n",
    "    plt.yticks(numberOfTickMarks,classes)\n",
    "    \n",
    "    plt.ylabel('True Labels')\n",
    "    plt.xlabel('Predicted Labels')\n",
    "    \n",
    "    plt.tight_layout()\n"
   ]
  },
  {
   "cell_type": "code",
   "execution_count": 5,
   "metadata": {},
   "outputs": [
    {
     "name": "stdout",
     "output_type": "stream",
     "text": [
      "Recall Score / Model Accuracy : 0.8266666666666667\n",
      "\n",
      "Classification Report :\n",
      "\n",
      "              precision    recall  f1-score   support\n",
      "\n",
      "           0       0.92      0.93      0.92       401\n",
      "           1       0.93      0.94      0.93       466\n",
      "           2       0.80      0.77      0.78       426\n",
      "           3       0.78      0.80      0.79       429\n",
      "           4       0.79      0.83      0.81       397\n",
      "           5       0.77      0.77      0.77       369\n",
      "           6       0.89      0.87      0.88       418\n",
      "           7       0.86      0.83      0.85       474\n",
      "           8       0.75      0.72      0.73       411\n",
      "           9       0.77      0.80      0.79       409\n",
      "\n",
      "   micro avg       0.83      0.83      0.83      4200\n",
      "   macro avg       0.82      0.83      0.82      4200\n",
      "weighted avg       0.83      0.83      0.83      4200\n",
      "\n"
     ]
    },
    {
     "data": {
      "image/png": "[encoded data removed]",
      "text/plain": [
       "<Figure size 432x288 with 2 Axes>"
      ]
     },
     "metadata": {
      "needs_background": "light"
     },
     "output_type": "display_data"
    }
   ],
   "source": [
    "# Cell for testing our model\n",
    "\n",
    "# Create an object that'll run the model with a given index and return the label it predicted\n",
    "prediction = DTC.predict(TestData)\n",
    "\n",
    "# Create Confusion Matrix\n",
    "# Passing in our true labels and what our model predicted\n",
    "cm = confusionMatrix(TestLabels,prediction)\n",
    "\n",
    "# Create an array representing each class\n",
    "classNames = ['0','1','2','3','4','5','6','7','8','9']\n",
    "\n",
    "# Compute the recall ratio ( truePos/(truePos+falseNeg) )\n",
    "print('Recall Score / Model Accuracy :',recall(TestLabels,prediction,average='micro'))\n",
    "\n",
    "print('\\nClassification Report :\\n')\n",
    "\n",
    "# Output a classification report\n",
    "print(classificationReport(TestLabels,prediction,target_names=classNames))\n",
    "\n",
    "# Plot+Display Confusion Matrix\n",
    "Plot_Confusion_Matrix(cm,classNames,'Confusion Matrix w/out Normalization',plt.cm.Blues)\n",
    "\n"
   ]
  },
  {
   "cell_type": "code",
   "execution_count": 6,
   "metadata": {},
   "outputs": [
    {
     "data": {
      "text/plain": [
       "<matplotlib.axes._subplots.AxesSubplot at 0x1c1cab50>"
      ]
     },
     "execution_count": 6,
     "metadata": {},
     "output_type": "execute_result"
    },
    {
     "data": {
      "image/png": "[encoded data removed]",
      "text/plain": [
       "<Figure size 432x288 with 2 Axes>"
      ]
     },
     "metadata": {
      "needs_background": "light"
     },
     "output_type": "display_data"
    }
   ],
   "source": [
    "#Confusion matrix heat map using Seaborn\n",
    "sb.heatmap(cm, annot = True, annot_kws={\"size\": 15})"
   ]
  },
  {
   "cell_type": "code",
   "execution_count": 7,
   "metadata": {},
   "outputs": [
    {
     "name": "stdout",
     "output_type": "stream",
     "text": [
      "Predicted Label : 4\n",
      "Actual Label : 4\n",
      "Index : 2392\n"
     ]
    },
    {
     "data": {
      "text/plain": [
       "<matplotlib.image.AxesImage at 0x7b4c90>"
      ]
     },
     "execution_count": 7,
     "metadata": {},
     "output_type": "execute_result"
    },
    {
     "data": {
      "image/png": "[encoded data removed]",
      "text/plain": [
       "<Figure size 432x288 with 1 Axes>"
      ]
     },
     "metadata": {
      "needs_background": "light"
     },
     "output_type": "display_data"
    },
    {
     "name": "stdout",
     "output_type": "stream",
     "text": [
      "[[  0   0   0   0   0   0   0   0   0   0   0   0   0   0   0   0   0   0\n",
      "    0   0   0   0   0   0   0   0   0   0]\n",
      " [  0   0   0   0   0   0   0   0   0   0   0   0   0   0   0   0   0   0\n",
      "    0   0   0   0   0   0   0   0   0   0]\n",
      " [  0   0   0   0   0   0   0   0   0   0   0   0   0   0   0   0   0   0\n",
      "    0   0   0   0   0   0   0   0   0   0]\n",
      " [  0   0   0   0   0   0   0   0   0   0   0   0   0   0   0   0   0   0\n",
      "    0   0   0   0   0   0   0   0   0   0]\n",
      " [  0   0   0   0   0   0   0   0   0   0   0   0   0   0   0   0   0   0\n",
      "    0   0   0   0   0   0   0   0   0   0]\n",
      " [  0   0   0   0   0   0   0   0   0   0   0   0   0   0   0   0   0   0\n",
      "    0   0   0   0   0   0   0   0   0   0]\n",
      " [  0   0   0   0   0   0   0   0   0   0   0   0   0   0  71  49   0   0\n",
      "    0   0  12 185  33   0   0   0   0   0]\n",
      " [  0   0   0   0   0   0   0   0   0   0   0   0   0  12 202 168   0   0\n",
      "    0   0 100 254 172   0   0   0   0   0]\n",
      " [  0   0   0   0   0   0   0   0   0   0   0   0  26 138 249 104   0   0\n",
      "    0  22 222 254 149   0   0   0   0   0]\n",
      " [  0   0   0   0   0   0   0   0   0   0   0  17 167 254 211  13   0   0\n",
      "    0 142 254 246  29   0   0   0   0   0]\n",
      " [  0   0   0   0   0   0   0   0   0   0  18 177 254 254  88   0   0   0\n",
      "   72 246 254  94   0   0   0   0   0   0]\n",
      " [  0   0   0   0   0   0   0   0   0  18 202 254 254 105   4   0   0  23\n",
      "  246 254 224   4   0   0   0   0   0   0]\n",
      " [  0   0   0   0   0   0   0   0  45 203 254 226 108   2   0   0  21 188\n",
      "  254 221  45   0   0   0   0   0   0   0]\n",
      " [  0   0   0   0   0   0   0  26 241 254 250  82   0   0   0   0  82 250\n",
      "  254  92   0   0   0   0   0   0   0   0]\n",
      " [  0   0   0   0   0   0   0  72 254 254 213  64   0   0   0 110 248 254\n",
      "  117   0   0   0   0   0   0   0   0   0]\n",
      " [  0   0   0   0   0   0   0  25 194 254 255 221  90  24  59 234 254 179\n",
      "    2   0   0   0   0   0   0   0   0   0]\n",
      " [  0   0   0   0   0   0   0   0  24 140 250 254 254 237 234 254 234  50\n",
      "    0   0   0   0   0   0   0   0   0   0]\n",
      " [  0   0   0   0   0   0   0   0   0   0  26 108 214 254 254 241 118   7\n",
      "    0   0   0   0   0   0   0   0   0   0]\n",
      " [  0   0   0   0   0   0   0   0   0   0   0   0 123 254 242  64   0   0\n",
      "    0   0   0   0   0   0   0   0   0   0]\n",
      " [  0   0   0   0   0   0   0   0   0   0   0  87 254 254  79   0   0   0\n",
      "    0   0   0   0   0   0   0   0   0   0]\n",
      " [  0   0   0   0   0   0   0   0   0   0  62 227 254 136   0   0   0   0\n",
      "    0   0   0   0   0   0   0   0   0   0]\n",
      " [  0   0   0   0   0   0   0   0   0  28 225 254 170  16   0   0   0   0\n",
      "    0   0   0   0   0   0   0   0   0   0]\n",
      " [  0   0   0   0   0   0   0   0  23 121 254 198  39   0   0   0   0   0\n",
      "    0   0   0   0   0   0   0   0   0   0]\n",
      " [  0   0   0   0   0   0   0   0  79 254 238  43   0   0   0   0   0   0\n",
      "    0   0   0   0   0   0   0   0   0   0]\n",
      " [  0   0   0   0   0   0   0  48 229 254  87   0   0   0   0   0   0   0\n",
      "    0   0   0   0   0   0   0   0   0   0]\n",
      " [  0   0   0   0   0   0   8 183 254 120   1   0   0   0   0   0   0   0\n",
      "    0   0   0   0   0   0   0   0   0   0]\n",
      " [  0   0   0   0   0   0   0   0   0   0   0   0   0   0   0   0   0   0\n",
      "    0   0   0   0   0   0   0   0   0   0]\n",
      " [  0   0   0   0   0   0   0   0   0   0   0   0   0   0   0   0   0   0\n",
      "    0   0   0   0   0   0   0   0   0   0]]\n"
     ]
    }
   ],
   "source": [
    "# Cell for displaying an image in our data set and predicting what the image is\n",
    "\n",
    "# Select a random image from our test data set\n",
    "SELECTED_IMAGE = random.randrange(0,prediction.size)\n",
    "\n",
    "# Select the image we want to show\n",
    "image = TestData[SELECTED_IMAGE]\n",
    "\n",
    "# Use reshape(1,-1) to pass in a single element at the correct size\n",
    "imageModelInput = image.reshape(1,-1)\n",
    "\n",
    "# NOTE: Need to pass in a 2D array for it to work. A single element from a 2D array won't work. (It'll pass in a 1D array)\n",
    "predict = DTC.predict(imageModelInput)\n",
    "\n",
    "# Output what the model things the image is.\n",
    "print(\"Predicted Label :\",predict[0])\n",
    "\n",
    "# Convert's the array element into a 28x28 image\n",
    "image.shape=(28,28)\n",
    "\n",
    "print('Actual Label :',TestLabels[SELECTED_IMAGE])\n",
    "print('Index :',SELECTED_IMAGE)\n",
    "\n",
    "# Show the image in gray scale using pyplot\n",
    "# NOTE: 'binary' is like 'gray' cmap but in reverse\n",
    "plt.imshow(image,cmap='binary')\n",
    "plt.show()\n",
    "\n",
    "print(image)\n"
   ]
  },
  {
   "cell_type": "code",
   "execution_count": null,
   "metadata": {},
   "outputs": [],
   "source": [
    "# Other stuff\n",
    "\n",
    "print(\"\\nTree params = \\n\",DTC.get_params())\n",
    "print(\"\\nScore = \",DTC.score(TestData,TestLabels))"
   ]
  },
  {
   "cell_type": "code",
   "execution_count": null,
   "metadata": {},
   "outputs": [],
   "source": [
    "# Allows us to serialize+save our model\n",
    "\n",
    "import pickle\n",
    "\n",
    "saveFileDir = \"C:/Users/Mike/PickleObjects/\"\n",
    "\n",
    "filename = 'SavedDigitRecogModel'\n",
    "\n",
    "pickle.dump(DTC,open(saveFileDir+filename,'wb'))"
   ]
  },
  {
   "cell_type": "code",
   "execution_count": null,
   "metadata": {},
   "outputs": [],
   "source": [
    "# Load the model and score it to make sure it works\n",
    "\n",
    "loadedDigitRecogModel = pickle.load(open(saveFileDir+filename,'rb'))\n",
    "loadedDigitRecogModel.score(rawTrainingData,rawTrainingLabels)"
   ]
  },
  {
   "cell_type": "code",
   "execution_count": null,
   "metadata": {},
   "outputs": [],
   "source": [
    "# Save training data and labels\n",
    "# Don't need to do this unless you want to move your data out for testing purposes\n",
    "\n",
    "RTDName = 'TrainingData'\n",
    "RTLName = 'TrainingLabels'\n",
    "\n",
    "pickle.dump(rawTrainingData,open(saveFileDir+RTDName,'wb'))\n",
    "pickle.dump(rawTrainingLabels,open(saveFileDir+RTLName,'wb'))"
   ]
  }
 ],
 "metadata": {
  "kernelspec": {
   "display_name": "Python 3",
   "language": "python",
   "name": "python3"
  },
  "language_info": {
   "codemirror_mode": {
    "name": "ipython",
    "version": 3
   },
   "file_extension": ".py",
   "mimetype": "text/x-python",
   "name": "python",
   "nbconvert_exporter": "python",
   "pygments_lexer": "ipython3",
   "version": "3.7.0"
  }
 },
 "nbformat": 4,
 "nbformat_minor": 2
}
