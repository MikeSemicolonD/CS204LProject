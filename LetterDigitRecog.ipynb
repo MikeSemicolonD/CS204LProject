{
 "cells": [
  {
   "cell_type": "code",
   "execution_count": 1,
   "metadata": {},
   "outputs": [],
   "source": [
    "import pickle\n",
    "import random\n",
    "import pandas as pd\n",
    "import numpy as np\n",
    "import seaborn as sb\n",
    "from matplotlib import pyplot as plt\n",
    "from sklearn.model_selection import train_test_split\n",
    "from sklearn.tree import DecisionTreeClassifier\n",
    "from sklearn.ensemble import RandomForestClassifier\n",
    "from sklearn.metrics import confusion_matrix as confusionMatrix\n",
    "from sklearn.metrics import recall_score as recall\n",
    "from sklearn.metrics import classification_report as classificationReport\n",
    "\n",
    "%matplotlib inline\n",
    "\n",
    "# https://www.kaggle.com/crawford/emnist/home\n",
    "\n",
    "TRAIN_DIR = \"C:/Users/Mike/Jupyter/CSVs/lettersAndDigits/emnist-balanced-train.csv\"\n",
    "TEST_DIR = \"C:/Users/Mike/Jupyter/CSVs/lettersAndDigits/emnist-balanced-test.csv\"\n",
    "\n",
    "trainingDataSet = pd.read_csv(TRAIN_DIR, dtype=int).values;\n"
   ]
  },
  {
   "cell_type": "code",
   "execution_count": 2,
   "metadata": {
    "scrolled": true
   },
   "outputs": [
    {
     "data": {
      "image/png": "[encoded data removed]",
      "text/plain": [
       "<Figure size 432x288 with 1 Axes>"
      ]
     },
     "metadata": {
      "needs_background": "light"
     },
     "output_type": "display_data"
    },
    {
     "name": "stdout",
     "output_type": "stream",
     "text": [
      "[25]\n",
      "P\n"
     ]
    }
   ],
   "source": [
    "# Cell meant for just viewing the dataset\n",
    "\n",
    "# The labels in the data represent an index for this mapping string\n",
    "class_mapping = \"0123456789ABCDEFGHIJKLMNOPQRSTUVWXYZabdefghnqrt\"\n",
    "\n",
    "# Size is 112798\n",
    "DATA_SET_LIMIT = 50798\n",
    "\n",
    "# Create an array holding your training data, excluding index 0 (Your labels)\n",
    "rawTrainingData = trainingDataSet[:DATA_SET_LIMIT,1:]\n",
    "\n",
    "# Create an array holding your training labels exclusively\n",
    "rawTrainingLabels = trainingDataSet[:DATA_SET_LIMIT,0:1]\n",
    "\n",
    "TrainingData, TestData, TrainingLabels, TestLabels = train_test_split(rawTrainingData,rawTrainingLabels, test_size=0.2, random_state=0)\n",
    "\n",
    "SELECTED_IMAGE = random.randrange(0,DATA_SET_LIMIT)\n",
    "\n",
    "# Select the image we want to show\n",
    "image = rawTrainingData[SELECTED_IMAGE]\n",
    "label = rawTrainingLabels[SELECTED_IMAGE]\n",
    "\n",
    "# Convert's the array element into a 28x28 image\n",
    "image.shape=(28,28)\n",
    "\n",
    "# Show the image in gray scale using pyplot\n",
    "# NOTE: 'binary' is like 'gray' cmap but in reverse\n",
    "plt.imshow(image,cmap='binary')\n",
    "plt.show()\n",
    "\n",
    "#Output the label\n",
    "print(label)\n",
    "\n",
    "#Pass the label to a string index to get the Actual value\n",
    "print(class_mapping[label.astype(int)[0]])\n"
   ]
  },
  {
   "cell_type": "code",
   "execution_count": 3,
   "metadata": {},
   "outputs": [
    {
     "data": {
      "text/plain": [
       "DecisionTreeClassifier(class_weight=None, criterion='gini', max_depth=None,\n",
       "            max_features=None, max_leaf_nodes=None,\n",
       "            min_impurity_decrease=0.0, min_impurity_split=None,\n",
       "            min_samples_leaf=1, min_samples_split=2,\n",
       "            min_weight_fraction_leaf=0.0, presort=False, random_state=None,\n",
       "            splitter='best')"
      ]
     },
     "execution_count": 3,
     "metadata": {},
     "output_type": "execute_result"
    }
   ],
   "source": [
    "# Cell to train the model\n",
    "DTC = DecisionTreeClassifier()\n",
    "DTC.fit(TrainingData,TrainingLabels)"
   ]
  },
  {
   "cell_type": "code",
   "execution_count": 4,
   "metadata": {},
   "outputs": [
    {
     "name": "stdout",
     "output_type": "stream",
     "text": [
      "Predicted Label : 37\n",
      "Actual Label : b\n",
      "Index : 8567\n"
     ]
    },
    {
     "data": {
      "image/png": "[encoded data removed]",
      "text/plain": [
       "<Figure size 432x288 with 1 Axes>"
      ]
     },
     "metadata": {
      "needs_background": "light"
     },
     "output_type": "display_data"
    }
   ],
   "source": [
    "# Select a random image from our test data set\n",
    "SELECTED_IMAGE = random.randrange(0,10160)\n",
    "\n",
    "# Select the image we want to show\n",
    "image = TestData[SELECTED_IMAGE]\n",
    "\n",
    "# Use reshape(1,-1) to pass in a single element at the correct size\n",
    "imageModelInput = image.reshape(1,-1)\n",
    "\n",
    "# NOTE: Need to pass in a 2D array for it to work. A single element from a 2D array won't work. (It'll pass in a 1D array)\n",
    "predict = DTC.predict(imageModelInput)\n",
    "\n",
    "# Output what the model things the image is.\n",
    "print(\"Predicted Label :\",predict[0])\n",
    "print('Actual Label :',class_mapping[predict[0]])\n",
    "print('Index :',SELECTED_IMAGE)\n",
    "\n",
    "# Convert's the array element into a 28x28 image\n",
    "image.shape=(28,28)\n",
    "\n",
    "# Show the image in gray scale using pyplot\n",
    "# NOTE: 'binary' is like 'gray' cmap but in reverse\n",
    "plt.imshow(image,cmap='binary')\n",
    "plt.show()\n",
    "\n",
    "#print(image)"
   ]
  },
  {
   "cell_type": "code",
   "execution_count": 5,
   "metadata": {},
   "outputs": [],
   "source": [
    "# Plot Confusion Matrix Function\n",
    "\n",
    "def Plot_Confusion_Matrix(matrix,classes,title,cmap):\n",
    "    \n",
    "    plt.imshow(matrix, interpolation='nearest', cmap=cmap)\n",
    "    \n",
    "    plt.title(title)\n",
    "    plt.colorbar()\n",
    "    \n",
    "    numberOfTickMarks = np.arange(len(classes))\n",
    "    \n",
    "    plt.xticks(numberOfTickMarks,classes,rotation=45)\n",
    "    plt.yticks(numberOfTickMarks,classes)\n",
    "    \n",
    "    plt.ylabel('True Labels')\n",
    "    plt.xlabel('Predicted Labels')\n",
    "    \n",
    "    plt.tight_layout()\n"
   ]
  },
  {
   "cell_type": "code",
   "execution_count": 9,
   "metadata": {},
   "outputs": [
    {
     "name": "stdout",
     "output_type": "stream",
     "text": [
      "Recall Score / Model Accuracy : 0.5306102362204724\n",
      "\n",
      "Classification Report :\n",
      "\n",
      "              precision    recall  f1-score   support\n",
      "\n",
      "           0       0.47      0.46      0.47       219\n",
      "           1       0.49      0.46      0.47       224\n",
      "           2       0.48      0.51      0.50       210\n",
      "           3       0.72      0.66      0.69       252\n",
      "           4       0.51      0.59      0.55       215\n",
      "           5       0.49      0.49      0.49       201\n",
      "           6       0.61      0.65      0.63       205\n",
      "           7       0.80      0.82      0.81       233\n",
      "           8       0.48      0.45      0.46       220\n",
      "           9       0.51      0.43      0.46       209\n",
      "           A       0.54      0.47      0.50       226\n",
      "           B       0.41      0.38      0.39       199\n",
      "           C       0.65      0.67      0.66       201\n",
      "           D       0.55      0.55      0.55       216\n",
      "           E       0.44      0.52      0.48       221\n",
      "           F       0.40      0.39      0.39       217\n",
      "           G       0.51      0.50      0.50       203\n",
      "           H       0.44      0.50      0.47       210\n",
      "           I       0.40      0.45      0.42       196\n",
      "           J       0.50      0.56      0.53       206\n",
      "           K       0.48      0.42      0.45       221\n",
      "           L       0.34      0.41      0.37       223\n",
      "           M       0.69      0.68      0.68       231\n",
      "           N       0.53      0.48      0.51       231\n",
      "           O       0.42      0.42      0.42       200\n",
      "           P       0.59      0.57      0.58       214\n",
      "           Q       0.49      0.45      0.47       208\n",
      "           R       0.51      0.52      0.51       215\n",
      "           S       0.56      0.50      0.53       210\n",
      "           T       0.69      0.71      0.70       217\n",
      "           U       0.55      0.59      0.57       214\n",
      "           V       0.67      0.64      0.66       235\n",
      "           W       0.59      0.59      0.59       227\n",
      "           X       0.61      0.59      0.60       219\n",
      "           Y       0.58      0.54      0.56       201\n",
      "           Z       0.61      0.52      0.56       239\n",
      "           a       0.46      0.53      0.49       212\n",
      "           b       0.65      0.68      0.66       246\n",
      "           d       0.59      0.59      0.59       217\n",
      "           e       0.64      0.55      0.59       214\n",
      "           f       0.35      0.39      0.37       215\n",
      "           g       0.25      0.25      0.25       228\n",
      "           h       0.66      0.65      0.66       218\n",
      "           n       0.69      0.71      0.70       211\n",
      "           q       0.23      0.26      0.24       197\n",
      "           r       0.69      0.71      0.70       194\n",
      "           t       0.44      0.42      0.43       220\n",
      "\n",
      "   micro avg       0.53      0.53      0.53     10160\n",
      "   macro avg       0.53      0.53      0.53     10160\n",
      "weighted avg       0.53      0.53      0.53     10160\n",
      "\n"
     ]
    },
    {
     "data": {
      "image/png": "[encoded data removed]",
      "text/plain": [
       "<Figure size 432x288 with 2 Axes>"
      ]
     },
     "metadata": {
      "needs_background": "light"
     },
     "output_type": "display_data"
    }
   ],
   "source": [
    "# Cell for testing our model\n",
    "\n",
    "# Create an object that'll run the model with a given index and return the label it predicted\n",
    "prediction = DTC.predict(TestData)\n",
    "\n",
    "# Create Confusion Matrix\n",
    "# Passing in our true labels and what our model predicted\n",
    "cm = confusionMatrix(TestLabels,prediction)\n",
    "\n",
    "# Create an array representing each class\n",
    "classNames = ['0','1','2','3','4','5','6','7','8','9','A','B','C','D','E','F','G','H','I','J','K','L','M','N','O','P','Q','R','S','T','U','V','W','X','Y','Z','a','b','d','e','f','g','h','n','q','r','t']\n",
    "\n",
    "# Compute the recall ratio ( truePos/(truePos+falseNeg) )\n",
    "print('Recall Score / Model Accuracy :',recall(TestLabels,prediction,average='micro'))\n",
    "\n",
    "print('\\nClassification Report :\\n')\n",
    "\n",
    "# Output a classification report\n",
    "print(classificationReport(TestLabels,prediction,target_names=classNames))\n",
    "\n",
    "# Plot+Display Confusion Matrix\n",
    "Plot_Confusion_Matrix(cm,classNames,'Confusion Matrix w/out Normalization',plt.cm.Blues)"
   ]
  },
  {
   "cell_type": "code",
   "execution_count": 8,
   "metadata": {},
   "outputs": [
    {
     "data": {
      "text/plain": [
       "<matplotlib.axes._subplots.AxesSubplot at 0x1c5740d0>"
      ]
     },
     "execution_count": 8,
     "metadata": {},
     "output_type": "execute_result"
    },
    {
     "data": {
      "image/png": "[encoded data removed]",
      "text/plain": [
       "<Figure size 432x288 with 2 Axes>"
      ]
     },
     "metadata": {
      "needs_background": "light"
     },
     "output_type": "display_data"
    }
   ],
   "source": [
    "#Confusion matrix heat map using Seaborn\n",
    "sb.heatmap(cm)"
   ]
  },
  {
   "cell_type": "code",
   "execution_count": null,
   "metadata": {},
   "outputs": [],
   "source": []
  }
 ],
 "metadata": {
  "kernelspec": {
   "display_name": "Python 3",
   "language": "python",
   "name": "python3"
  },
  "language_info": {
   "codemirror_mode": {
    "name": "ipython",
    "version": 3
   },
   "file_extension": ".py",
   "mimetype": "text/x-python",
   "name": "python",
   "nbconvert_exporter": "python",
   "pygments_lexer": "ipython3",
   "version": "3.7.0"
  }
 },
 "nbformat": 4,
 "nbformat_minor": 2
}
